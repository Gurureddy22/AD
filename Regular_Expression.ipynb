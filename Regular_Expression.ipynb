{
  "cells": [
    {
      "cell_type": "code",
      "execution_count": 4,
      "id": "2edc3dd5-88a3-47cf-a065-a42dc16e05d5",
      "metadata": {
        "id": "2edc3dd5-88a3-47cf-a065-a42dc16e05d5"
      },
      "outputs": [],
      "source": [
        "import re"
      ]
    },
    {
      "cell_type": "code",
      "execution_count": 5,
      "id": "dfee8ed6-0443-431a-812c-8d96a8530284",
      "metadata": {
        "id": "dfee8ed6-0443-431a-812c-8d96a8530284"
      },
      "outputs": [],
      "source": [
        "test_string = '123abc456789abc123ABC'"
      ]
    },
    {
      "cell_type": "code",
      "execution_count": 6,
      "id": "7c66032e-c644-4634-a663-b8587a6521b3",
      "metadata": {
        "colab": {
          "base_uri": "https://localhost:8080/"
        },
        "id": "7c66032e-c644-4634-a663-b8587a6521b3",
        "outputId": "0ef854a0-13e9-4838-81c6-e5ee0709edb3"
      },
      "outputs": [
        {
          "output_type": "stream",
          "name": "stdout",
          "text": [
            "<re.Match object; span=(3, 6), match='abc'>\n",
            "<re.Match object; span=(12, 15), match='abc'>\n"
          ]
        }
      ],
      "source": [
        "\n",
        "# finditer() method gives match object\n",
        "pattern = re.compile(r'abc')\n",
        "matches = pattern.finditer(test_string)\n",
        "for match in matches:\n",
        " print(match)\n"
      ]
    },
    {
      "cell_type": "code",
      "execution_count": 7,
      "id": "42c5769c-0ac8-45d8-a0cb-814950fb07ca",
      "metadata": {
        "colab": {
          "base_uri": "https://localhost:8080/"
        },
        "id": "42c5769c-0ac8-45d8-a0cb-814950fb07ca",
        "outputId": "72f01ed2-9d16-4317-ed4e-342b0aa72ca4"
      },
      "outputs": [
        {
          "output_type": "stream",
          "name": "stdout",
          "text": [
            "<re.Match object; span=(3, 6), match='abc'>\n",
            "<re.Match object; span=(12, 15), match='abc'>\n"
          ]
        }
      ],
      "source": [
        "\n",
        "# or can also be done in following way:\n",
        "matches = re.finditer(r\"abc\", test_string)\n",
        "for match in matches:\n",
        " print(match)\n"
      ]
    },
    {
      "cell_type": "code",
      "execution_count": 8,
      "id": "222223b9-0982-4eb9-bcfb-76cbda5d892c",
      "metadata": {
        "colab": {
          "base_uri": "https://localhost:8080/"
        },
        "id": "222223b9-0982-4eb9-bcfb-76cbda5d892c",
        "outputId": "5ca53a5b-b679-46e8-e959-65376815572e"
      },
      "outputs": [
        {
          "output_type": "stream",
          "name": "stdout",
          "text": [
            "abc\n",
            "abc\n"
          ]
        }
      ],
      "source": [
        "\n",
        "\n",
        "# findall() method gives all matching strings\n",
        "matches = re.findall(r\"abc\", test_string)\n",
        "for match in matches:\n",
        " print(match)\n"
      ]
    },
    {
      "cell_type": "code",
      "execution_count": 9,
      "id": "c8d15712-bc08-42fb-84b1-0f6821b48ac5",
      "metadata": {
        "colab": {
          "base_uri": "https://localhost:8080/"
        },
        "id": "c8d15712-bc08-42fb-84b1-0f6821b48ac5",
        "outputId": "d77447e2-93fe-4d1d-ad59-1cfd5f8d7792"
      },
      "outputs": [
        {
          "output_type": "stream",
          "name": "stdout",
          "text": [
            "None\n"
          ]
        }
      ],
      "source": [
        "# match() method gives first match at the beginning of string.\n",
        "match = re.match(r\"abc\", test_string)\n",
        "print(match)\n"
      ]
    },
    {
      "cell_type": "code",
      "execution_count": 10,
      "id": "c069396f-207b-4dbf-bd84-865554be289d",
      "metadata": {
        "colab": {
          "base_uri": "https://localhost:8080/"
        },
        "id": "c069396f-207b-4dbf-bd84-865554be289d",
        "outputId": "0a12cea6-e8cc-44e6-f7c0-0ece908837c7"
      },
      "outputs": [
        {
          "output_type": "stream",
          "name": "stdout",
          "text": [
            "<re.Match object; span=(0, 3), match='123'>\n"
          ]
        }
      ],
      "source": [
        "\n",
        "match = re.match(r\"123\", test_string)\n",
        "print(match)\n"
      ]
    },
    {
      "cell_type": "code",
      "execution_count": 11,
      "id": "2a729754-b0ea-4dae-b9d5-7aa2a9e6b1f7",
      "metadata": {
        "colab": {
          "base_uri": "https://localhost:8080/"
        },
        "id": "2a729754-b0ea-4dae-b9d5-7aa2a9e6b1f7",
        "outputId": "0aab1fb8-b604-4a5a-a3c2-669d5e591127"
      },
      "outputs": [
        {
          "output_type": "stream",
          "name": "stdout",
          "text": [
            "<re.Match object; span=(3, 6), match='abc'>\n"
          ]
        }
      ],
      "source": [
        "\n",
        "# search() method gives first matching string at any location\n",
        "match = re.search(r\"abc\", test_string)\n",
        "print(match)"
      ]
    },
    {
      "cell_type": "markdown",
      "id": "4541764b-bd3d-4f09-93a6-6f1286003fca",
      "metadata": {
        "id": "4541764b-bd3d-4f09-93a6-6f1286003fca"
      },
      "source": [
        "\n",
        "\n",
        "Methods on a Match object\n",
        "1. group(): Return the string matched by the RE\n",
        "2. start(): Return the starting position of the match\n",
        "3. end(): Return the ending position of the match\n",
        "4. span(): Return a tuple containing the (start, end) positions of the match"
      ]
    },
    {
      "cell_type": "code",
      "execution_count": 12,
      "id": "c2d1370f-3088-44ac-a99a-b7319015b18d",
      "metadata": {
        "colab": {
          "base_uri": "https://localhost:8080/"
        },
        "id": "c2d1370f-3088-44ac-a99a-b7319015b18d",
        "outputId": "5e46fa65-e50b-458b-c38c-1f4311804baa"
      },
      "outputs": [
        {
          "output_type": "stream",
          "name": "stdout",
          "text": [
            "(3, 6) 3 6\n",
            "(12, 15) 12 15\n"
          ]
        }
      ],
      "source": [
        "# moving forward with finditer() method\n",
        "pattern = re.compile(r'abc')\n",
        "matches = pattern.finditer(test_string)\n",
        "for match in matches:\n",
        " print(match.span(), match.start(), match.end())\n",
        "\n",
        "# group, start, end, span method"
      ]
    },
    {
      "cell_type": "code",
      "execution_count": 13,
      "id": "b3aa853c-42d5-41f0-8b3e-972edae56215",
      "metadata": {
        "colab": {
          "base_uri": "https://localhost:8080/"
        },
        "id": "b3aa853c-42d5-41f0-8b3e-972edae56215",
        "outputId": "4a8e8505-30b5-4782-9f26-c3b6c81d503d"
      },
      "outputs": [
        {
          "output_type": "stream",
          "name": "stdout",
          "text": [
            "abc\n",
            "abc\n"
          ]
        }
      ],
      "source": [
        "pattern = re.compile(r'abc')\n",
        "matches = pattern.finditer(test_string)\n",
        "for match in matches:\n",
        " print(match.group())\n"
      ]
    },
    {
      "cell_type": "markdown",
      "id": "7e73f1e9-e2f6-4f5e-b8e4-7f9e99aa0ffc",
      "metadata": {
        "id": "7e73f1e9-e2f6-4f5e-b8e4-7f9e99aa0ffc"
      },
      "source": [
        "All meta characters . ^ $ * + ? { } \\ | ( )\n",
        "Note: Meta characters need to be escaped (with ) if we actually want to search for the char.\n"
      ]
    },
    {
      "cell_type": "markdown",
      "id": "359879e6-36fe-4dce-86e8-f203cc6e81b8",
      "metadata": {
        "id": "359879e6-36fe-4dce-86e8-f203cc6e81b8"
      },
      "source": [
        "1. . any character (except new line character)\n",
        "2. ^ startswith \"^hello\"\n",
        "3. $ endswith \"world$\"\n",
        "4. * zero or more occurances\n",
        "5. + one or more occurances\n",
        "6. {} exactly specified no of occurances \"al{2}\"\n",
        "7. [] A set of characters \"[a-m]\"\n",
        "8. \\ Signals a special sequence (can also be used to escape special characters) \"\\d\"\n",
        "9. | Either or \"falls|stays\"\n",
        "10. ( ) Capture and group\n",
        "More Metacharacters / Special Sequences\n",
        "A special sequence is a \\ followed by one of the characters in the list below, and has a special meaning:\n",
        "1. \\d :Matches any decimal digit; this is equivalent to the class [0-9].\n",
        "2. \\D : Matches any non-digit character; this is equivalent to the class [^0-9].\n",
        "3. \\s : Matches any whitespace character;\n",
        "4. \\S : Matches any non-whitespace character;\n",
        "5. \\w : Matches any alphanumeric (word) character; this is equivalent to the class [a-zA-Z0-9_].\n",
        "6. \\W : Matches any non-alphanumeric character; this is equivalent to the class [^a-zA-Z0-9_].\n",
        "7. \\b Returns a match where the specified characters are at the beginning or at the end of a word r\"\\bain\" r\"ain\\b\"\n",
        "8. \\B Returns a match where the specified characters are present, but NOT at the beginning (or at the end) of a word\n",
        "r\"\\Bain\" r\"ain\\B\"\n",
        "9. \\A Returns a match if the specified characters are at the beginning of the string \"\\AThe\"\n",
        "10. \\Z Returns a match if the specified characters are at the end of the string \"Spain\\Z\""
      ]
    },
    {
      "cell_type": "code",
      "execution_count": 14,
      "id": "7134e4a4-5a83-4086-aac9-6e6ddd20b35a",
      "metadata": {
        "colab": {
          "base_uri": "https://localhost:8080/"
        },
        "id": "7134e4a4-5a83-4086-aac9-6e6ddd20b35a",
        "outputId": "3d3f19a2-91eb-4aba-c9ab-e518725d3f4f"
      },
      "outputs": [
        {
          "output_type": "stream",
          "name": "stdout",
          "text": [
            "1 2 3 a b c 4 5 6 7 8 9 a b c 1 2 3 A B C "
          ]
        }
      ],
      "source": [
        "\n",
        "\n",
        "pattern = re.compile(r\".\")\n",
        "matches = pattern.finditer(test_string)\n",
        "for match in matches:\n",
        " print(match.group(), end = \" \")\n"
      ]
    },
    {
      "cell_type": "code",
      "execution_count": 15,
      "id": "1cf2c088-cfdf-43eb-8916-72078a606e3b",
      "metadata": {
        "colab": {
          "base_uri": "https://localhost:8080/"
        },
        "id": "1cf2c088-cfdf-43eb-8916-72078a606e3b",
        "outputId": "301bcb6e-7241-40c8-fb8a-c9a5756c6aba"
      },
      "outputs": [
        {
          "output_type": "stream",
          "name": "stdout",
          "text": [
            "<re.Match object; span=(21, 22), match='.'>\n"
          ]
        }
      ],
      "source": [
        "test_string1 = '123abc456789abc123ABC.'\n",
        "pattern = re.compile(r\"\\.\")\n",
        "matches = pattern.finditer(test_string1)\n",
        "for match in matches:\n",
        " print(match)\n"
      ]
    },
    {
      "cell_type": "code",
      "execution_count": 16,
      "id": "2a4a0caa-e357-4b9c-ab0d-d243d3bcfe5f",
      "metadata": {
        "colab": {
          "base_uri": "https://localhost:8080/"
        },
        "id": "2a4a0caa-e357-4b9c-ab0d-d243d3bcfe5f",
        "outputId": "9474e19d-de2b-4d9d-9d58-07f49c728e17"
      },
      "outputs": [
        {
          "output_type": "stream",
          "name": "stdout",
          "text": [
            "<re.Match object; span=(0, 3), match='123'>\n"
          ]
        }
      ],
      "source": [
        "\n",
        "test_string = '123abc456789abc123ABC'\n",
        "pattern = re.compile(r\"^123\")\n",
        "matches = pattern.finditer(test_string)\n",
        "for match in matches:\n",
        " print(match)\n"
      ]
    },
    {
      "cell_type": "code",
      "execution_count": 17,
      "id": "d59e35d3-0ffe-4e1f-ac83-c6080f422ccf",
      "metadata": {
        "id": "d59e35d3-0ffe-4e1f-ac83-c6080f422ccf"
      },
      "outputs": [],
      "source": [
        "\n",
        "\n",
        "\n",
        "\n",
        "pattern = re.compile(r\"^abc\")\n",
        "matches = pattern.finditer(test_string)\n",
        "for match in matches:\n",
        " print(match)\n",
        "# no match\n"
      ]
    },
    {
      "cell_type": "code",
      "execution_count": 18,
      "id": "cb8f16ca-5c5c-4987-a802-51d706245e10",
      "metadata": {
        "id": "cb8f16ca-5c5c-4987-a802-51d706245e10"
      },
      "outputs": [],
      "source": [
        "\n",
        "pattern = re.compile(r\"abc$\")\n",
        "matches = pattern.finditer(test_string)\n",
        "for match in matches:\n",
        " print(match)\n",
        "\n",
        "# no match\n"
      ]
    },
    {
      "cell_type": "code",
      "execution_count": 19,
      "id": "7e3bf86f-539f-445a-afb4-cf4435ef22ae",
      "metadata": {
        "colab": {
          "base_uri": "https://localhost:8080/"
        },
        "id": "7e3bf86f-539f-445a-afb4-cf4435ef22ae",
        "outputId": "be087f58-d727-4e1e-a6f1-4d3ff929ef65"
      },
      "outputs": [
        {
          "output_type": "stream",
          "name": "stdout",
          "text": [
            "<re.Match object; span=(18, 21), match='ABC'>\n"
          ]
        }
      ],
      "source": [
        "pattern = re.compile(r\"ABC$\")\n",
        "matches = pattern.finditer(test_string)\n",
        "for match in matches:\n",
        " print(match)\n"
      ]
    },
    {
      "cell_type": "code",
      "execution_count": 20,
      "id": "1b58ed64-3acc-4e5d-8432-3375b4a777fb",
      "metadata": {
        "id": "1b58ed64-3acc-4e5d-8432-3375b4a777fb"
      },
      "outputs": [],
      "source": [
        "test_string2 = 'hello 123_ heyho hohey'\n"
      ]
    },
    {
      "cell_type": "code",
      "execution_count": 21,
      "id": "06a9c403-d124-4b59-b1df-7d6d4b4e4f42",
      "metadata": {
        "colab": {
          "base_uri": "https://localhost:8080/"
        },
        "id": "06a9c403-d124-4b59-b1df-7d6d4b4e4f42",
        "outputId": "311f4e98-64af-4db3-dcff-d8626be01f3a"
      },
      "outputs": [
        {
          "output_type": "stream",
          "name": "stdout",
          "text": [
            "<re.Match object; span=(6, 7), match='1'>\n",
            "<re.Match object; span=(7, 8), match='2'>\n",
            "<re.Match object; span=(8, 9), match='3'>\n"
          ]
        }
      ],
      "source": [
        "pattern = re.compile(r\"\\d\")\n",
        "matches = pattern.finditer(test_string2)\n",
        "for match in matches:\n",
        " print(match)\n"
      ]
    },
    {
      "cell_type": "code",
      "execution_count": 22,
      "id": "32185c95-c2bd-4a29-8aac-64e2d2ae859b",
      "metadata": {
        "colab": {
          "base_uri": "https://localhost:8080/"
        },
        "id": "32185c95-c2bd-4a29-8aac-64e2d2ae859b",
        "outputId": "a992a3b4-23cf-4d09-9f19-3af80e3dec6e"
      },
      "outputs": [
        {
          "output_type": "stream",
          "name": "stdout",
          "text": [
            "<re.Match object; span=(0, 1), match='h'>\n",
            "<re.Match object; span=(1, 2), match='e'>\n",
            "<re.Match object; span=(2, 3), match='l'>\n",
            "<re.Match object; span=(3, 4), match='l'>\n",
            "<re.Match object; span=(4, 5), match='o'>\n",
            "<re.Match object; span=(5, 6), match=' '>\n",
            "<re.Match object; span=(9, 10), match='_'>\n",
            "<re.Match object; span=(10, 11), match=' '>\n",
            "<re.Match object; span=(11, 12), match='h'>\n",
            "<re.Match object; span=(12, 13), match='e'>\n",
            "<re.Match object; span=(13, 14), match='y'>\n",
            "<re.Match object; span=(14, 15), match='h'>\n",
            "<re.Match object; span=(15, 16), match='o'>\n",
            "<re.Match object; span=(16, 17), match=' '>\n",
            "<re.Match object; span=(17, 18), match='h'>\n",
            "<re.Match object; span=(18, 19), match='o'>\n",
            "<re.Match object; span=(19, 20), match='h'>\n",
            "<re.Match object; span=(20, 21), match='e'>\n",
            "<re.Match object; span=(21, 22), match='y'>\n"
          ]
        }
      ],
      "source": [
        "pattern = re.compile(r\"\\D\")\n",
        "matches = pattern.finditer(test_string2)\n",
        "for match in matches:\n",
        " print(match)\n"
      ]
    },
    {
      "cell_type": "code",
      "execution_count": 23,
      "id": "54295ae6-b588-4c27-aced-9ad3fec6dc21",
      "metadata": {
        "colab": {
          "base_uri": "https://localhost:8080/"
        },
        "id": "54295ae6-b588-4c27-aced-9ad3fec6dc21",
        "outputId": "eab9a964-1c00-4f41-ffac-779b9c812537"
      },
      "outputs": [
        {
          "output_type": "stream",
          "name": "stdout",
          "text": [
            "<re.Match object; span=(5, 6), match=' '>\n",
            "<re.Match object; span=(10, 11), match=' '>\n",
            "<re.Match object; span=(16, 17), match=' '>\n"
          ]
        }
      ],
      "source": [
        "pattern = re.compile(r\"\\s\")\n",
        "matches = pattern.finditer(test_string2)\n",
        "for match in matches:\n",
        " print(match)\n"
      ]
    },
    {
      "cell_type": "code",
      "execution_count": 24,
      "id": "3dd8eb5e-9a61-46f4-a3ff-c6f1b4194ed5",
      "metadata": {
        "colab": {
          "base_uri": "https://localhost:8080/"
        },
        "id": "3dd8eb5e-9a61-46f4-a3ff-c6f1b4194ed5",
        "outputId": "4e077665-ae76-4706-d0f4-0d3079f5946f"
      },
      "outputs": [
        {
          "output_type": "stream",
          "name": "stdout",
          "text": [
            "<re.Match object; span=(0, 1), match='h'>\n",
            "<re.Match object; span=(1, 2), match='e'>\n",
            "<re.Match object; span=(2, 3), match='l'>\n",
            "<re.Match object; span=(3, 4), match='l'>\n",
            "<re.Match object; span=(4, 5), match='o'>\n",
            "<re.Match object; span=(6, 7), match='1'>\n",
            "<re.Match object; span=(7, 8), match='2'>\n",
            "<re.Match object; span=(8, 9), match='3'>\n",
            "<re.Match object; span=(9, 10), match='_'>\n",
            "<re.Match object; span=(11, 12), match='h'>\n",
            "<re.Match object; span=(12, 13), match='e'>\n",
            "<re.Match object; span=(13, 14), match='y'>\n",
            "<re.Match object; span=(14, 15), match='h'>\n",
            "<re.Match object; span=(15, 16), match='o'>\n",
            "<re.Match object; span=(17, 18), match='h'>\n",
            "<re.Match object; span=(18, 19), match='o'>\n",
            "<re.Match object; span=(19, 20), match='h'>\n",
            "<re.Match object; span=(20, 21), match='e'>\n",
            "<re.Match object; span=(21, 22), match='y'>\n"
          ]
        }
      ],
      "source": [
        "pattern = re.compile(r\"\\S\")\n",
        "matches = pattern.finditer(test_string2)\n",
        "for match in matches:\n",
        " print(match)"
      ]
    },
    {
      "cell_type": "code",
      "execution_count": 25,
      "id": "f6bda43d-35b8-459b-ad1d-723577c490a5",
      "metadata": {
        "colab": {
          "base_uri": "https://localhost:8080/"
        },
        "id": "f6bda43d-35b8-459b-ad1d-723577c490a5",
        "outputId": "6d0b0811-44a5-486f-e41f-da5fd6ee42ad"
      },
      "outputs": [
        {
          "output_type": "stream",
          "name": "stdout",
          "text": [
            "<re.Match object; span=(0, 1), match='h'>\n",
            "<re.Match object; span=(1, 2), match='e'>\n",
            "<re.Match object; span=(2, 3), match='l'>\n",
            "<re.Match object; span=(3, 4), match='l'>\n",
            "<re.Match object; span=(4, 5), match='o'>\n",
            "<re.Match object; span=(6, 7), match='1'>\n",
            "<re.Match object; span=(7, 8), match='2'>\n",
            "<re.Match object; span=(8, 9), match='3'>\n",
            "<re.Match object; span=(9, 10), match='_'>\n",
            "<re.Match object; span=(11, 12), match='h'>\n",
            "<re.Match object; span=(12, 13), match='e'>\n",
            "<re.Match object; span=(13, 14), match='y'>\n",
            "<re.Match object; span=(14, 15), match='h'>\n",
            "<re.Match object; span=(15, 16), match='o'>\n",
            "<re.Match object; span=(17, 18), match='h'>\n",
            "<re.Match object; span=(18, 19), match='o'>\n",
            "<re.Match object; span=(19, 20), match='h'>\n",
            "<re.Match object; span=(20, 21), match='e'>\n",
            "<re.Match object; span=(21, 22), match='y'>\n"
          ]
        }
      ],
      "source": [
        "pattern= re.compile(r\"\\w\")\n",
        "matches= pattern.finditer(test_string2)\n",
        "for match in matches:\n",
        " print(match)\n"
      ]
    },
    {
      "cell_type": "code",
      "execution_count": 26,
      "id": "13987443-3d95-4cc6-8195-1d722e735663",
      "metadata": {
        "colab": {
          "base_uri": "https://localhost:8080/"
        },
        "id": "13987443-3d95-4cc6-8195-1d722e735663",
        "outputId": "73b410d7-3033-4db9-ddf6-694711542b2f"
      },
      "outputs": [
        {
          "output_type": "stream",
          "name": "stdout",
          "text": [
            "<re.Match object; span=(5, 6), match=' '>\n",
            "<re.Match object; span=(10, 11), match=' '>\n",
            "<re.Match object; span=(16, 17), match=' '>\n"
          ]
        }
      ],
      "source": [
        "pattern= re.compile(r\"\\W\")\n",
        "matches= pattern.finditer(test_string2)\n",
        "for match in matches:\n",
        " print(match)\n"
      ]
    },
    {
      "cell_type": "code",
      "execution_count": 27,
      "id": "e678bd3c-9894-405a-8ade-ebf7012c1f0d",
      "metadata": {
        "colab": {
          "base_uri": "https://localhost:8080/"
        },
        "id": "e678bd3c-9894-405a-8ade-ebf7012c1f0d",
        "outputId": "38878e29-d608-45d7-92d5-6fa156b98644"
      },
      "outputs": [
        {
          "output_type": "stream",
          "name": "stdout",
          "text": [
            "<re.Match object; span=(0, 5), match='hello'>\n"
          ]
        }
      ],
      "source": [
        "\n",
        "pattern= re.compile(r\"\\bhello\")\n",
        "matches= pattern.finditer(test_string2)\n",
        "for match in matches:\n",
        " print(match)\n"
      ]
    },
    {
      "cell_type": "markdown",
      "id": "09af789c-6089-4759-a186-629115d9e429",
      "metadata": {
        "id": "09af789c-6089-4759-a186-629115d9e429"
      },
      "source": [
        "Sets\n",
        "1. A set is a set of characters inside a pair of square brackets [] with a special meaning. Append multiple conditions backto back, e.g. [aA-Z].\n",
        "2. A ^ (caret) inside a set negates the expression.\n",
        "3. A - (dash) in a set specifies a range if it is in between, otherwise the dash itself.\n",
        "Examples:\n",
        "1. [arn] Returns a match where one of the specified characters (a, r, or n) are present\n",
        "2. [a-n] Returns a match for any lower case character, alphabetically between a and n\n",
        "3. [^arn] Returns a match for any character EXCEPT a, r, and n\n",
        "4. [0123] Returns a match where any of the specified digits (0, 1, 2, or 3) are present\n",
        "5. [0-9] Returns a match for any digit between 0 and 9\n",
        "6. 0-5 Returns a match for any two-digit numbers from 00 and 59\n",
        "7. [a-zA-Z] Returns a match for any character alphabetically between a and z, lower case OR upper case\n"
      ]
    },
    {
      "cell_type": "code",
      "execution_count": 28,
      "id": "3b16cfb8-28ec-4b51-87d4-843cbcb349b4",
      "metadata": {
        "id": "3b16cfb8-28ec-4b51-87d4-843cbcb349b4"
      },
      "outputs": [],
      "source": [
        "test_string3 = 'hello 123_'"
      ]
    },
    {
      "cell_type": "code",
      "execution_count": 29,
      "id": "7b131795-5051-4098-b48d-d824f1e57056",
      "metadata": {
        "colab": {
          "base_uri": "https://localhost:8080/"
        },
        "id": "7b131795-5051-4098-b48d-d824f1e57056",
        "outputId": "ac1b3164-244a-48f5-8b89-46f2d4dd6e46"
      },
      "outputs": [
        {
          "output_type": "stream",
          "name": "stdout",
          "text": [
            "<re.Match object; span=(2, 3), match='l'>\n",
            "<re.Match object; span=(3, 4), match='l'>\n",
            "<re.Match object; span=(4, 5), match='o'>\n"
          ]
        }
      ],
      "source": [
        "pattern = re.compile(r\"[lo]\")\n",
        "matches = pattern.finditer(test_string3)\n",
        "for match in matches:\n",
        " print(match)"
      ]
    },
    {
      "cell_type": "code",
      "execution_count": 30,
      "id": "58585772-82ad-400e-a619-94a99fe51323",
      "metadata": {
        "colab": {
          "base_uri": "https://localhost:8080/"
        },
        "id": "58585772-82ad-400e-a619-94a99fe51323",
        "outputId": "957133bb-d642-4d1c-dc8d-aa88dc0aeb67"
      },
      "outputs": [
        {
          "output_type": "stream",
          "name": "stdout",
          "text": [
            "<re.Match object; span=(0, 1), match='h'>\n",
            "<re.Match object; span=(1, 2), match='e'>\n",
            "<re.Match object; span=(2, 3), match='l'>\n",
            "<re.Match object; span=(3, 4), match='l'>\n",
            "<re.Match object; span=(4, 5), match='o'>\n"
          ]
        }
      ],
      "source": [
        "\n",
        "\n",
        "pattern = re.compile(r\"[a-z]\")\n",
        "matches = pattern.finditer(test_string3)\n",
        "for match in matches:\n",
        " print(match)\n"
      ]
    },
    {
      "cell_type": "code",
      "execution_count": 31,
      "id": "9d8bd9cf-6d36-46d7-93dc-0c24d09223ac",
      "metadata": {
        "colab": {
          "base_uri": "https://localhost:8080/"
        },
        "id": "9d8bd9cf-6d36-46d7-93dc-0c24d09223ac",
        "outputId": "473b5d14-f21c-4438-dd2d-6cb9bf025cd1"
      },
      "outputs": [
        {
          "output_type": "stream",
          "name": "stdout",
          "text": [
            "<re.Match object; span=(7, 8), match='2'>\n",
            "<re.Match object; span=(8, 9), match='3'>\n"
          ]
        }
      ],
      "source": [
        "pattern = re.compile(r\"[23]\")\n",
        "matches = pattern.finditer(test_string3)\n",
        "for match in matches:\n",
        " print(match)"
      ]
    },
    {
      "cell_type": "code",
      "execution_count": 32,
      "id": "becfa63a-0fd1-4118-885d-83dcaec45316",
      "metadata": {
        "colab": {
          "base_uri": "https://localhost:8080/"
        },
        "id": "becfa63a-0fd1-4118-885d-83dcaec45316",
        "outputId": "6d415f83-9241-44cb-b90e-7ec11bf7c8ab"
      },
      "outputs": [
        {
          "output_type": "stream",
          "name": "stdout",
          "text": [
            "<re.Match object; span=(6, 7), match='1'>\n",
            "<re.Match object; span=(7, 8), match='2'>\n",
            "<re.Match object; span=(8, 9), match='3'>\n"
          ]
        }
      ],
      "source": [
        "pattern = re.compile(r\"[0-9]\")\n",
        "matches = pattern.finditer(test_string3)\n",
        "for match in matches:\n",
        " print(match)\n",
        "\n"
      ]
    },
    {
      "cell_type": "code",
      "execution_count": 33,
      "id": "86ccfe19-ab66-4b1e-8c20-e10f175b5b2d",
      "metadata": {
        "colab": {
          "base_uri": "https://localhost:8080/"
        },
        "id": "86ccfe19-ab66-4b1e-8c20-e10f175b5b2d",
        "outputId": "133238ac-3602-40eb-8827-dbb4ef32f1e6"
      },
      "outputs": [
        {
          "output_type": "stream",
          "name": "stdout",
          "text": [
            "<re.Match object; span=(6, 7), match='1'>\n",
            "<re.Match object; span=(7, 8), match='2'>\n",
            "<re.Match object; span=(8, 9), match='3'>\n",
            "<re.Match object; span=(9, 10), match='-'>\n"
          ]
        }
      ],
      "source": [
        "pattern = re.compile(r\"[0-9-]\")\n",
        "matches = pattern.finditer('hello 123-')\n",
        "for match in matches:\n",
        " print(match)\n"
      ]
    },
    {
      "cell_type": "code",
      "execution_count": 34,
      "id": "5b6fb598-1481-4458-a35b-6c7ffe109457",
      "metadata": {
        "colab": {
          "base_uri": "https://localhost:8080/"
        },
        "id": "5b6fb598-1481-4458-a35b-6c7ffe109457",
        "outputId": "cf4e5d7f-4567-4510-b5da-61c9216b9e62"
      },
      "outputs": [
        {
          "output_type": "stream",
          "name": "stdout",
          "text": [
            "<re.Match object; span=(0, 1), match='h'>\n",
            "<re.Match object; span=(1, 2), match='e'>\n",
            "<re.Match object; span=(2, 3), match='l'>\n",
            "<re.Match object; span=(3, 4), match='l'>\n",
            "<re.Match object; span=(4, 5), match='o'>\n",
            "<re.Match object; span=(5, 6), match='H'>\n",
            "<re.Match object; span=(6, 7), match='E'>\n",
            "<re.Match object; span=(7, 8), match='L'>\n",
            "<re.Match object; span=(8, 9), match='L'>\n",
            "<re.Match object; span=(9, 10), match='O'>\n",
            "<re.Match object; span=(11, 12), match='1'>\n",
            "<re.Match object; span=(12, 13), match='2'>\n",
            "<re.Match object; span=(13, 14), match='3'>\n"
          ]
        }
      ],
      "source": [
        "pattern = re.compile(r\"[a-zA-Z0-9]\")\n",
        "matches = pattern.finditer('helloHELLO 123_')\n",
        "for match in matches:\n",
        " print(match)"
      ]
    },
    {
      "cell_type": "markdown",
      "id": "d4637515-8810-40c0-ac47-2d20954bac2f",
      "metadata": {
        "id": "d4637515-8810-40c0-ac47-2d20954bac2f"
      },
      "source": [
        "Quantifier\n",
        "1. * : 0 or more\n",
        "2. + : 1 or more\n",
        "3. ? : 0 or 1, used when a character can be optional\n",
        "4. {4} : exact number\n",
        "5. {4,6} : range numbers (min, max)"
      ]
    },
    {
      "cell_type": "code",
      "execution_count": 35,
      "id": "aea565ae-5955-4761-82a8-c848bed4b8be",
      "metadata": {
        "id": "aea565ae-5955-4761-82a8-c848bed4b8be"
      },
      "outputs": [],
      "source": [
        "test_string4 = 'hello_123'"
      ]
    },
    {
      "cell_type": "code",
      "execution_count": 36,
      "id": "5300d44c-7d9f-48d7-ae70-10f17fa25a24",
      "metadata": {
        "colab": {
          "base_uri": "https://localhost:8080/"
        },
        "id": "5300d44c-7d9f-48d7-ae70-10f17fa25a24",
        "outputId": "26560fc4-d997-4a97-f456-526efb5f77e2"
      },
      "outputs": [
        {
          "output_type": "stream",
          "name": "stdout",
          "text": [
            "<re.Match object; span=(0, 0), match=''>\n",
            "<re.Match object; span=(1, 1), match=''>\n",
            "<re.Match object; span=(2, 2), match=''>\n",
            "<re.Match object; span=(3, 3), match=''>\n",
            "<re.Match object; span=(4, 4), match=''>\n",
            "<re.Match object; span=(5, 5), match=''>\n",
            "<re.Match object; span=(6, 9), match='123'>\n",
            "<re.Match object; span=(9, 9), match=''>\n"
          ]
        }
      ],
      "source": [
        "pattern = re.compile(r\"\\d*\")\n",
        "matches = pattern.finditer(test_string4)\n",
        "for match in matches:\n",
        " print(match)"
      ]
    },
    {
      "cell_type": "code",
      "execution_count": 37,
      "id": "30ca7f00-2f9f-412e-8154-0046af4a9daa",
      "metadata": {
        "colab": {
          "base_uri": "https://localhost:8080/"
        },
        "id": "30ca7f00-2f9f-412e-8154-0046af4a9daa",
        "outputId": "909603e4-41f4-487c-e94a-70b36b736946"
      },
      "outputs": [
        {
          "output_type": "stream",
          "name": "stdout",
          "text": [
            "<re.Match object; span=(6, 7), match='1'>\n",
            "<re.Match object; span=(7, 8), match='2'>\n",
            "<re.Match object; span=(8, 9), match='3'>\n"
          ]
        }
      ],
      "source": [
        "pattern = re.compile(r\"\\d\")\n",
        "matches = pattern.finditer(test_string4)\n",
        "for match in matches:\n",
        " print(match)\n"
      ]
    },
    {
      "cell_type": "code",
      "execution_count": 38,
      "id": "18d98f2d-5c1b-452a-9c05-ffe02ecdc942",
      "metadata": {
        "colab": {
          "base_uri": "https://localhost:8080/"
        },
        "id": "18d98f2d-5c1b-452a-9c05-ffe02ecdc942",
        "outputId": "c45c91b1-26de-4281-a9c5-5a2154b3c232"
      },
      "outputs": [
        {
          "output_type": "stream",
          "name": "stdout",
          "text": [
            "<re.Match object; span=(6, 9), match='123'>\n"
          ]
        }
      ],
      "source": [
        "\n",
        "pattern = re.compile(r\"\\d+\")\n",
        "matches = pattern.finditer(test_string4)\n",
        "for match in matches:\n",
        " print(match)"
      ]
    },
    {
      "cell_type": "code",
      "execution_count": 39,
      "id": "241e96d0-af7c-4733-9d53-086c318b280b",
      "metadata": {
        "colab": {
          "base_uri": "https://localhost:8080/"
        },
        "id": "241e96d0-af7c-4733-9d53-086c318b280b",
        "outputId": "2874750e-8993-43bf-e0a8-0eea75d168cd"
      },
      "outputs": [
        {
          "output_type": "stream",
          "name": "stdout",
          "text": [
            "<re.Match object; span=(5, 9), match='_123'>\n"
          ]
        }
      ],
      "source": [
        "pattern = re.compile(r\"_\\d+\")\n",
        "matches = pattern.finditer(test_string4)\n",
        "for match in matches:\n",
        " print(match)"
      ]
    },
    {
      "cell_type": "code",
      "execution_count": 40,
      "id": "308292f7-7458-43a1-acb4-22e9b1a65200",
      "metadata": {
        "id": "308292f7-7458-43a1-acb4-22e9b1a65200"
      },
      "outputs": [],
      "source": [
        "pattern = re.compile(r\"_\\d\")\n",
        "matches = pattern.finditer('hello123')\n",
        "for match in matches:\n",
        " print(match)\n",
        "\n",
        "# no match"
      ]
    },
    {
      "cell_type": "code",
      "execution_count": 41,
      "id": "f9c4534a-89e4-462a-88bc-ca2a5b7c1c23",
      "metadata": {
        "colab": {
          "base_uri": "https://localhost:8080/"
        },
        "id": "f9c4534a-89e4-462a-88bc-ca2a5b7c1c23",
        "outputId": "0f86fb76-d927-41b4-c9f9-8a97217ad10c"
      },
      "outputs": [
        {
          "output_type": "stream",
          "name": "stdout",
          "text": [
            "<re.Match object; span=(5, 6), match='1'>\n",
            "<re.Match object; span=(6, 7), match='2'>\n",
            "<re.Match object; span=(7, 8), match='3'>\n"
          ]
        }
      ],
      "source": [
        "pattern = re.compile(r\"_?\\d\")\n",
        "matches = pattern.finditer('hello123')\n",
        "for match in matches:\n",
        " print(match)"
      ]
    },
    {
      "cell_type": "code",
      "execution_count": 42,
      "id": "4ec5eafa-1d4d-4af8-8371-8943eaa01773",
      "metadata": {
        "colab": {
          "base_uri": "https://localhost:8080/"
        },
        "id": "4ec5eafa-1d4d-4af8-8371-8943eaa01773",
        "outputId": "9bc8a25f-b8ce-430f-a000-225a7db03c98"
      },
      "outputs": [
        {
          "output_type": "stream",
          "name": "stdout",
          "text": [
            "<re.Match object; span=(5, 8), match='123'>\n"
          ]
        }
      ],
      "source": [
        "pattern = re.compile(r\"\\d{3}\")\n",
        "matches = pattern.finditer('hello123')\n",
        "for match in matches:\n",
        " print(match)"
      ]
    },
    {
      "cell_type": "code",
      "execution_count": 43,
      "id": "7522cf62-9a73-4fa0-9120-0ef1b5b2e730",
      "metadata": {
        "colab": {
          "base_uri": "https://localhost:8080/"
        },
        "id": "7522cf62-9a73-4fa0-9120-0ef1b5b2e730",
        "outputId": "a0acef4a-5a82-4893-ecfc-a934d377d840"
      },
      "outputs": [
        {
          "output_type": "stream",
          "name": "stdout",
          "text": [
            "<re.Match object; span=(5, 7), match='12'>\n"
          ]
        }
      ],
      "source": [
        "pattern = re.compile(r\"\\d{2}\")\n",
        "matches = pattern.finditer('hello123')\n",
        "for match in matches:\n",
        " print(match)"
      ]
    },
    {
      "cell_type": "code",
      "execution_count": 44,
      "id": "0894c592-24b5-4b3f-96b5-e80b7708d74b",
      "metadata": {
        "id": "0894c592-24b5-4b3f-96b5-e80b7708d74b"
      },
      "outputs": [],
      "source": [
        "pattern = re.compile(r\"\\d{4}\")\n",
        "matches = pattern.finditer('hello123')\n",
        "for match in matches:\n",
        " print(match)"
      ]
    },
    {
      "cell_type": "code",
      "execution_count": 45,
      "id": "b9789297-e09e-4dd7-8ada-543da2a87814",
      "metadata": {
        "colab": {
          "base_uri": "https://localhost:8080/"
        },
        "id": "b9789297-e09e-4dd7-8ada-543da2a87814",
        "outputId": "7fd38e10-e746-46cc-e343-8dec7b8bf924"
      },
      "outputs": [
        {
          "output_type": "stream",
          "name": "stdout",
          "text": [
            "<re.Match object; span=(5, 8), match='123'>\n"
          ]
        }
      ],
      "source": [
        "pattern = re.compile(r\"\\d{1,3}\")\n",
        "matches = pattern.finditer('hello123')\n",
        "for match in matches:\n",
        " print(match)\n"
      ]
    },
    {
      "cell_type": "code",
      "execution_count": 46,
      "id": "ae0b1c57-59ca-4074-be82-63138d002d4a",
      "metadata": {
        "id": "ae0b1c57-59ca-4074-be82-63138d002d4a"
      },
      "outputs": [],
      "source": [
        "# Task 1\n",
        "dates = \"\"\"\n",
        "hello\n",
        "11.04.2022\n",
        "2022.04.21\n",
        "2022-04-30\n",
        "2022-05-23\n",
        "2022-06-12\n",
        "2022-07-15\n",
        "2022-08-19\n",
        "2022/04/22\n",
        "2022_04_04\n",
        "\"\"\"\n"
      ]
    },
    {
      "cell_type": "code",
      "execution_count": 47,
      "id": "a364a5fa-3e63-4d3d-90da-829c46f87350",
      "metadata": {
        "colab": {
          "base_uri": "https://localhost:8080/"
        },
        "id": "a364a5fa-3e63-4d3d-90da-829c46f87350",
        "outputId": "39e495a2-6906-4743-b45e-35cebeca9b09"
      },
      "outputs": [
        {
          "output_type": "stream",
          "name": "stdout",
          "text": [
            "<re.Match object; span=(31, 39), match='22-04-30'>\n",
            "<re.Match object; span=(42, 50), match='22-05-23'>\n",
            "<re.Match object; span=(53, 61), match='22-06-12'>\n",
            "<re.Match object; span=(64, 72), match='22-07-15'>\n",
            "<re.Match object; span=(75, 83), match='22-08-19'>\n"
          ]
        }
      ],
      "source": [
        "#1. find all date in this 2020-04-01 format\n",
        "pattern = re.compile(r\"\\d.-\\d.-\\d.\")\n",
        "matches = pattern.finditer(dates)\n",
        "for match in matches:\n",
        " print(match)"
      ]
    },
    {
      "cell_type": "code",
      "execution_count": 48,
      "id": "bc79f0c7-b6b7-4ec4-90bf-35c06c8bd425",
      "metadata": {
        "colab": {
          "base_uri": "https://localhost:8080/"
        },
        "id": "bc79f0c7-b6b7-4ec4-90bf-35c06c8bd425",
        "outputId": "f76b5c12-5de8-49ae-a411-d4bffff5d481"
      },
      "outputs": [
        {
          "output_type": "stream",
          "name": "stdout",
          "text": [
            "<re.Match object; span=(29, 39), match='2022-04-30'>\n",
            "<re.Match object; span=(40, 50), match='2022-05-23'>\n",
            "<re.Match object; span=(51, 61), match='2022-06-12'>\n",
            "<re.Match object; span=(62, 72), match='2022-07-15'>\n",
            "<re.Match object; span=(73, 83), match='2022-08-19'>\n"
          ]
        }
      ],
      "source": [
        "pattern = re.compile(r\"\\d\\d\\d\\d-\\d\\d-\\d\\d\")\n",
        "matches = pattern.finditer(dates)\n",
        "for match in matches:\n",
        " print(match)"
      ]
    },
    {
      "cell_type": "code",
      "execution_count": 49,
      "id": "e8da95b2-a7e2-4a2f-affd-103c1132b57d",
      "metadata": {
        "colab": {
          "base_uri": "https://localhost:8080/"
        },
        "id": "e8da95b2-a7e2-4a2f-affd-103c1132b57d",
        "outputId": "25d108f7-64c4-486c-dde0-9961a21fc360"
      },
      "outputs": [
        {
          "output_type": "stream",
          "name": "stdout",
          "text": [
            "<re.Match object; span=(29, 39), match='2022-04-30'>\n",
            "<re.Match object; span=(40, 50), match='2022-05-23'>\n",
            "<re.Match object; span=(51, 61), match='2022-06-12'>\n",
            "<re.Match object; span=(62, 72), match='2022-07-15'>\n",
            "<re.Match object; span=(73, 83), match='2022-08-19'>\n",
            "<re.Match object; span=(84, 94), match='2022/04/22'>\n"
          ]
        }
      ],
      "source": [
        "\n",
        "#2. find all date in this 2020-04-01 and 2020/04/02 format\n",
        "pattern = re.compile(r\"\\d\\d\\d\\d[-/]\\d\\d[-/]\\d\\d\")\n",
        "matches = pattern.finditer(dates)\n",
        "for match in matches:\n",
        " print(match)"
      ]
    },
    {
      "cell_type": "code",
      "execution_count": 50,
      "id": "5b11959d-2179-4381-a6af-280cb0c32d06",
      "metadata": {
        "colab": {
          "base_uri": "https://localhost:8080/"
        },
        "id": "5b11959d-2179-4381-a6af-280cb0c32d06",
        "outputId": "c261d0d6-08ba-423d-943b-66b00bba0402"
      },
      "outputs": [
        {
          "output_type": "stream",
          "name": "stdout",
          "text": [
            "<re.Match object; span=(40, 50), match='2022-05-23'>\n",
            "<re.Match object; span=(51, 61), match='2022-06-12'>\n",
            "<re.Match object; span=(62, 72), match='2022-07-15'>\n"
          ]
        }
      ],
      "source": [
        "#3. find all date in may, june, july\n",
        "pattern = re.compile(r\"\\d\\d\\d\\d[-/]0[5-7][-/]\\d\\d\")\n",
        "matches = pattern.finditer(dates)\n",
        "for match in matches:\n",
        " print(match)\n"
      ]
    },
    {
      "cell_type": "code",
      "execution_count": 51,
      "id": "20331a0d-c567-4ad8-ac25-cc0308ad9e19",
      "metadata": {
        "colab": {
          "base_uri": "https://localhost:8080/"
        },
        "id": "20331a0d-c567-4ad8-ac25-cc0308ad9e19",
        "outputId": "11d728ff-c77d-433d-bd74-2c853cfb8766"
      },
      "outputs": [
        {
          "output_type": "stream",
          "name": "stdout",
          "text": [
            "<re.Match object; span=(40, 50), match='2022-05-23'>\n",
            "<re.Match object; span=(51, 61), match='2022-06-12'>\n",
            "<re.Match object; span=(62, 72), match='2022-07-15'>\n"
          ]
        }
      ],
      "source": [
        "pattern = re.compile(r\"\\d{4}[-/]0[5-7][-/]\\d{2}\")\n",
        "matches = pattern.finditer(dates)\n",
        "for match in matches:\n",
        " print(match)\n"
      ]
    },
    {
      "cell_type": "markdown",
      "id": "724cd825-0fdc-4813-b951-a63767f1f5dc",
      "metadata": {
        "id": "724cd825-0fdc-4813-b951-a63767f1f5dc"
      },
      "source": [
        "Conditions        Use the | for either or condition"
      ]
    },
    {
      "cell_type": "code",
      "execution_count": 52,
      "id": "340a171b-332d-47f6-908e-38ed42e66bb2",
      "metadata": {
        "id": "340a171b-332d-47f6-908e-38ed42e66bb2"
      },
      "outputs": [],
      "source": [
        "my_str = \"\"\"\n",
        "hello world\n",
        "1223\n",
        "2022-05-20\n",
        "Mr Curry\n",
        "Mrs Curry\n",
        "Mr. Thompson\n",
        "Mrs Green\n",
        "Mr. T\n",
        "\"\"\"\n",
        "# return all names\n"
      ]
    },
    {
      "cell_type": "code",
      "execution_count": 53,
      "id": "3002fd3b-c978-46dd-bfaf-5f43dd84229e",
      "metadata": {
        "colab": {
          "base_uri": "https://localhost:8080/"
        },
        "id": "3002fd3b-c978-46dd-bfaf-5f43dd84229e",
        "outputId": "9680d0cf-ed72-482c-aaa8-94451ba31111"
      },
      "outputs": [
        {
          "output_type": "stream",
          "name": "stdout",
          "text": [
            "<re.Match object; span=(29, 37), match='Mr Curry'>\n"
          ]
        }
      ],
      "source": [
        "pattern = re.compile(r\"Mr\\s\\w+\")\n",
        "matches = pattern.finditer(my_str)\n",
        "for match in matches:\n",
        " print(match)"
      ]
    },
    {
      "cell_type": "code",
      "execution_count": 54,
      "id": "f18376f0-ebfc-4c73-8e2b-5e420cc3c57e",
      "metadata": {
        "colab": {
          "base_uri": "https://localhost:8080/"
        },
        "id": "f18376f0-ebfc-4c73-8e2b-5e420cc3c57e",
        "outputId": "29d03625-0a48-4e9f-adfa-dd63045cb42d"
      },
      "outputs": [
        {
          "output_type": "stream",
          "name": "stdout",
          "text": [
            "<re.Match object; span=(48, 60), match='Mr. Thompson'>\n",
            "<re.Match object; span=(71, 76), match='Mr. T'>\n"
          ]
        }
      ],
      "source": [
        "pattern = re.compile(r\"Mr\\.\\s\\w+\") #'\\' is used to treat . as dot\n",
        "matches = pattern.finditer(my_str)\n",
        "for match in matches:\n",
        " print(match)"
      ]
    },
    {
      "cell_type": "code",
      "execution_count": 55,
      "id": "297c101d-7215-4fce-8c79-71d4b7afa071",
      "metadata": {
        "colab": {
          "base_uri": "https://localhost:8080/"
        },
        "id": "297c101d-7215-4fce-8c79-71d4b7afa071",
        "outputId": "304c7ccd-f773-4a4b-8108-563f1502dae8"
      },
      "outputs": [
        {
          "output_type": "stream",
          "name": "stdout",
          "text": [
            "<re.Match object; span=(29, 37), match='Mr Curry'>\n",
            "<re.Match object; span=(48, 60), match='Mr. Thompson'>\n",
            "<re.Match object; span=(71, 76), match='Mr. T'>\n"
          ]
        }
      ],
      "source": [
        "pattern = re.compile(r\"Mr\\.?\\s\\w+\")\n",
        "matches = pattern.finditer(my_str)\n",
        "for match in matches:\n",
        " print(match)\n"
      ]
    },
    {
      "cell_type": "code",
      "execution_count": 56,
      "id": "eb1db224-ab33-4e30-9f02-341fc4af91be",
      "metadata": {
        "colab": {
          "base_uri": "https://localhost:8080/"
        },
        "id": "eb1db224-ab33-4e30-9f02-341fc4af91be",
        "outputId": "b1334d81-407f-4338-c032-aae096f969cb"
      },
      "outputs": [
        {
          "output_type": "stream",
          "name": "stdout",
          "text": [
            "<re.Match object; span=(29, 37), match='Mr Curry'>\n",
            "<re.Match object; span=(38, 47), match='Mrs Curry'>\n",
            "<re.Match object; span=(48, 60), match='Mr. Thompson'>\n",
            "<re.Match object; span=(61, 70), match='Mrs Green'>\n",
            "<re.Match object; span=(71, 76), match='Mr. T'>\n"
          ]
        }
      ],
      "source": [
        "\n",
        "pattern = re.compile(r\"(Mr|Ms|Mrs)\\.?\\s\\w+\")\n",
        "matches = pattern.finditer(my_str)\n",
        "for match in matches:\n",
        " print(match)"
      ]
    },
    {
      "cell_type": "markdown",
      "id": "ec0e789c-112c-4286-8b80-2564ceff2faf",
      "metadata": {
        "id": "ec0e789c-112c-4286-8b80-2564ceff2faf"
      },
      "source": [
        "Grouping      ( ) is used to group substrings in the matches"
      ]
    },
    {
      "cell_type": "code",
      "execution_count": 57,
      "id": "657e62d2-2f7d-49e9-b88c-195a78aa8337",
      "metadata": {
        "id": "657e62d2-2f7d-49e9-b88c-195a78aa8337"
      },
      "outputs": [],
      "source": [
        "emails = \"\"\"\n",
        "hello world\n",
        "1223\n",
        "2022-05-20\n",
        "Mr Curry\n",
        "Mrs Curry\n",
        "Mr. Thompson\n",
        "Mrs Green\n",
        "Mr. T\n",
        "stephencurry@gmail.com\n",
        "Stephen-curry@gmx.de\n",
        "stephen-curry123@my-domain.org\n",
        "\"\"\"\n",
        "# return all emails"
      ]
    },
    {
      "cell_type": "code",
      "execution_count": 58,
      "id": "60537766-c58e-48b2-a6a8-3b66c9d2dfad",
      "metadata": {
        "colab": {
          "base_uri": "https://localhost:8080/"
        },
        "id": "60537766-c58e-48b2-a6a8-3b66c9d2dfad",
        "outputId": "291e78d1-76ec-482a-cd71-02c0e2cee9cd"
      },
      "outputs": [
        {
          "output_type": "stream",
          "name": "stdout",
          "text": [
            "<re.Match object; span=(77, 99), match='stephencurry@gmail.com'>\n",
            "<re.Match object; span=(100, 120), match='Stephen-curry@gmx.de'>\n",
            "<re.Match object; span=(121, 151), match='stephen-curry123@my-domain.org'>\n"
          ]
        }
      ],
      "source": [
        "\n",
        "pattern = re.compile(r\"[a-zA-z0-9-]+@[a-zA-Z-]+\\.(com|de|org)\")\n",
        "matches = pattern.finditer(emails)\n",
        "for match in matches:\n",
        " print(match)\n"
      ]
    },
    {
      "cell_type": "code",
      "execution_count": 59,
      "id": "e6566921-cc48-4e63-89b0-c516fbbbe49f",
      "metadata": {
        "colab": {
          "base_uri": "https://localhost:8080/"
        },
        "id": "e6566921-cc48-4e63-89b0-c516fbbbe49f",
        "outputId": "bb199a1f-d60d-4c15-cd2c-dd118f52fadb"
      },
      "outputs": [
        {
          "output_type": "stream",
          "name": "stdout",
          "text": [
            "<re.Match object; span=(77, 99), match='stephencurry@gmail.com'>\n",
            "<re.Match object; span=(100, 120), match='Stephen-curry@gmx.de'>\n",
            "<re.Match object; span=(121, 151), match='stephen-curry123@my-domain.org'>\n"
          ]
        }
      ],
      "source": [
        "pattern = re.compile(r\"[a-zA-z0-9-]+@[a-zA-Z-]+\\.[a-zA-Z]*\")\n",
        "matches = pattern.finditer(emails)\n",
        "for match in matches:\n",
        " print(match)\n"
      ]
    },
    {
      "cell_type": "code",
      "execution_count": 60,
      "id": "ba8d45c1-5dc4-46a0-beac-4036eca30311",
      "metadata": {
        "colab": {
          "base_uri": "https://localhost:8080/"
        },
        "id": "ba8d45c1-5dc4-46a0-beac-4036eca30311",
        "outputId": "575de744-cc04-4821-eb48-9b649bb456d5"
      },
      "outputs": [
        {
          "output_type": "stream",
          "name": "stdout",
          "text": [
            "all groups:  stephencurry@gmail.com\n",
            "first groups:  stephencurry\n",
            "second groups:  gmail\n",
            "third groups:  com\n",
            "all groups:  Stephen-curry@gmx.de\n",
            "first groups:  Stephen-curry\n",
            "second groups:  gmx\n",
            "third groups:  de\n",
            "all groups:  stephen-curry123@my-domain.org\n",
            "first groups:  stephen-curry123\n",
            "second groups:  my-domain\n",
            "third groups:  org\n"
          ]
        }
      ],
      "source": [
        "pattern = re.compile(r\"([a-zA-z0-9-]+)@([a-zA-Z-]+)\\.([a-zA-Z]+)\")\n",
        "matches = pattern.finditer(emails)\n",
        "for match in matches:\n",
        " print(\"all groups: \",match.group(0)) #this means all groups\n",
        " print(\"first groups: \",match.group(1)) #this means first groups\n",
        " print(\"second groups: \",match.group(2)) #this means second groups\n",
        " print(\"third groups: \",match.group(3)) #this means third groups"
      ]
    },
    {
      "cell_type": "markdown",
      "id": "f1170384-a32e-4384-8057-f25a57651059",
      "metadata": {
        "id": "f1170384-a32e-4384-8057-f25a57651059"
      },
      "source": [
        "Modifying strings\n",
        "1. split() : Split the string into a list, splitting it wherever the RE matches\n",
        "2. sub() : Find all substrings where the RE matches, and replace them with a different string"
      ]
    },
    {
      "cell_type": "code",
      "execution_count": 61,
      "id": "080a9824-5e93-4461-937f-115d3531997e",
      "metadata": {
        "id": "080a9824-5e93-4461-937f-115d3531997e"
      },
      "outputs": [],
      "source": [
        "my_string = '123abc456789abc123ABC'"
      ]
    },
    {
      "cell_type": "code",
      "execution_count": 62,
      "id": "bef787c2-04ad-4918-b8ac-29f312d6874d",
      "metadata": {
        "colab": {
          "base_uri": "https://localhost:8080/"
        },
        "id": "bef787c2-04ad-4918-b8ac-29f312d6874d",
        "outputId": "e84a03ab-1b6d-4754-cb5a-20aa9b75dcd9"
      },
      "outputs": [
        {
          "output_type": "stream",
          "name": "stdout",
          "text": [
            "['123', '456789', '123ABC']\n"
          ]
        }
      ],
      "source": [
        "pattern = re.compile(r\"abc\")\n",
        "splitted = pattern.split(my_string)\n",
        "print(splitted)"
      ]
    },
    {
      "cell_type": "code",
      "execution_count": 63,
      "id": "c0ee338b-1f0f-4684-b2c7-2f94c23dfc48",
      "metadata": {
        "id": "c0ee338b-1f0f-4684-b2c7-2f94c23dfc48"
      },
      "outputs": [],
      "source": [
        "test_str = 'hello world, you are the best world'"
      ]
    },
    {
      "cell_type": "code",
      "execution_count": 64,
      "id": "41f72721-b754-4d63-afd6-da2000e7d2f6",
      "metadata": {
        "colab": {
          "base_uri": "https://localhost:8080/"
        },
        "id": "41f72721-b754-4d63-afd6-da2000e7d2f6",
        "outputId": "d2098921-24a9-4196-cf45-8f2c28a57156"
      },
      "outputs": [
        {
          "output_type": "stream",
          "name": "stdout",
          "text": [
            "hello planet, you are the best planet\n"
          ]
        }
      ],
      "source": [
        "pattern = re.compile(r\"world\")\n",
        "subbed_string = pattern.sub(\"planet\", test_str)\n",
        "print(subbed_string)\n"
      ]
    },
    {
      "cell_type": "code",
      "execution_count": 65,
      "id": "dd56ff0b-6655-4d79-99cb-76e648f0c4d4",
      "metadata": {
        "id": "dd56ff0b-6655-4d79-99cb-76e648f0c4d4"
      },
      "outputs": [],
      "source": [
        "# Task 2\n",
        "urls = \"\"\"\n",
        "http://zara-fashion.com\n",
        "https://www.world-healthorganisation.org\n",
        "http://www.iNeuron.ai\n",
        "\"\"\"\n",
        "# return url\n"
      ]
    },
    {
      "cell_type": "code",
      "execution_count": 66,
      "id": "b304e0d7-8c30-4692-a47d-786f0da3e99c",
      "metadata": {
        "colab": {
          "base_uri": "https://localhost:8080/"
        },
        "id": "b304e0d7-8c30-4692-a47d-786f0da3e99c",
        "outputId": "74c58c3c-ea0f-42ae-c7d7-e89bb129774c"
      },
      "outputs": [
        {
          "output_type": "stream",
          "name": "stdout",
          "text": [
            "<re.Match object; span=(1, 24), match='http://zara-fashion.com'>\n",
            "<re.Match object; span=(25, 65), match='https://www.world-healthorganisation.org'>\n",
            "<re.Match object; span=(66, 87), match='http://www.iNeuron.ai'>\n"
          ]
        }
      ],
      "source": [
        "pattern = re.compile(r\"(https?://)(www\\.)?([a-zA-Z-]+)\\.[a-zA-Z]+\")\n",
        "matches = pattern.finditer(urls)\n",
        "for match in matches:\n",
        " print(match)\n"
      ]
    },
    {
      "cell_type": "code",
      "execution_count": 67,
      "id": "9c1210d9-6778-4d37-ad19-56844a1e7ea9",
      "metadata": {
        "colab": {
          "base_uri": "https://localhost:8080/"
        },
        "id": "9c1210d9-6778-4d37-ad19-56844a1e7ea9",
        "outputId": "ed563595-3573-4aca-bd58-1ccaa2734506"
      },
      "outputs": [
        {
          "output_type": "stream",
          "name": "stdout",
          "text": [
            "<re.Match object; span=(1, 24), match='http://zara-fashion.com'>\n",
            "<re.Match object; span=(25, 65), match='https://www.world-healthorganisation.org'>\n",
            "<re.Match object; span=(66, 87), match='http://www.iNeuron.ai'>\n"
          ]
        }
      ],
      "source": [
        "pattern = re.compile(r\"(https?://)(www\\.)?([a-zA-Z-]+)\\.([a-zA-Z]+)\")\n",
        "matches = pattern.finditer(urls)\n",
        "for match in matches:\n",
        " print(match)\n"
      ]
    },
    {
      "cell_type": "code",
      "execution_count": 68,
      "id": "a83b6844-9304-4708-bf37-5287941adb71",
      "metadata": {
        "colab": {
          "base_uri": "https://localhost:8080/"
        },
        "id": "a83b6844-9304-4708-bf37-5287941adb71",
        "outputId": "9e8fdfa9-68c3-4391-ff13-25db8ede82d4"
      },
      "outputs": [
        {
          "output_type": "stream",
          "name": "stdout",
          "text": [
            "zara-fashion\n",
            "world-healthorganisation\n",
            "iNeuron\n"
          ]
        }
      ],
      "source": [
        "pattern = re.compile(r\"https?://(www\\.)?([a-zA-Z-]+)\\.([a-zA-Z]+)\")\n",
        "matches = pattern.finditer(urls)\n",
        "for match in matches:\n",
        " print(match.group(2))\n"
      ]
    },
    {
      "cell_type": "code",
      "execution_count": 69,
      "id": "85a6b8e7-f5c2-4363-901d-6a4445d259ef",
      "metadata": {
        "colab": {
          "base_uri": "https://localhost:8080/"
        },
        "id": "85a6b8e7-f5c2-4363-901d-6a4445d259ef",
        "outputId": "d599eba7-61ec-487a-cdbd-492f1a101600"
      },
      "outputs": [
        {
          "output_type": "stream",
          "name": "stdout",
          "text": [
            "\n",
            "hello\n",
            "hello\n",
            "hello\n",
            "\n"
          ]
        }
      ],
      "source": [
        "subbed_url = pattern.sub(\"hello\", urls)\n",
        "print(subbed_url)\n"
      ]
    },
    {
      "cell_type": "code",
      "execution_count": 70,
      "id": "f112174a-ece5-4944-8626-3eb7a1716cf8",
      "metadata": {
        "colab": {
          "base_uri": "https://localhost:8080/"
        },
        "id": "f112174a-ece5-4944-8626-3eb7a1716cf8",
        "outputId": "7c12b1e7-3765-4a62-adfe-daf3e5c20fb0"
      },
      "outputs": [
        {
          "output_type": "stream",
          "name": "stdout",
          "text": [
            "\n",
            "zara-fashioncom\n",
            "world-healthorganisationorg\n",
            "iNeuronai\n",
            "\n"
          ]
        }
      ],
      "source": [
        "subbed_url = pattern.sub(r\"\\2\\3\", urls) #\\2 and \\3 are used for specifying groups\n",
        "print(subbed_url)\n"
      ]
    },
    {
      "cell_type": "markdown",
      "id": "c181c161-1722-492b-80fd-7fdb9bc4b71f",
      "metadata": {
        "id": "c181c161-1722-492b-80fd-7fdb9bc4b71f"
      },
      "source": [
        "Compilation Flags\n",
        "1. ASCII, A : Makes several escapes like \\w, \\b, \\s and \\d match only on ASCII characters with the respective property.\n",
        "2. DOTALL, S : Make . match any character, including newlines.\n",
        "3. IGNORECASE, I : Do case-insensitive matches.\n",
        "4. LOCALE, L : Do a locale-aware match.\n",
        "5. MULTILINE, M : Multi-line matching, affecting ^ and $.\n",
        "6. VERBOSE, X (for ‘extended’) : Enable verbose REs, which can be organized more cleanly and understandably."
      ]
    },
    {
      "cell_type": "code",
      "execution_count": 71,
      "id": "45b35585-3914-44e7-871c-cac87d4b3e24",
      "metadata": {
        "id": "45b35585-3914-44e7-871c-cac87d4b3e24"
      },
      "outputs": [],
      "source": [
        "my_string = \"Hello World\"\n",
        "pattern = re.compile(r\"world\")\n",
        "matches = pattern.finditer(my_string)\n",
        "for match in matches:\n",
        " print(match)\n",
        "\n",
        "# no match # case sensitive"
      ]
    },
    {
      "cell_type": "code",
      "execution_count": 72,
      "id": "209e61b0-827b-4570-985f-a2bcb4b028ee",
      "metadata": {
        "colab": {
          "base_uri": "https://localhost:8080/"
        },
        "id": "209e61b0-827b-4570-985f-a2bcb4b028ee",
        "outputId": "35410c6f-1082-4cbd-aac4-75cb1b4b9cde"
      },
      "outputs": [
        {
          "output_type": "stream",
          "name": "stdout",
          "text": [
            "<re.Match object; span=(6, 11), match='World'>\n"
          ]
        }
      ],
      "source": [
        "my_string = \"Hello World\"\n",
        "pattern = re.compile(r\"world\", re.IGNORECASE) #in place of re.IGNORECASE we can use re.I\n",
        "matches = pattern.finditer(my_string)\n",
        "for match in matches:\n",
        " print(match)"
      ]
    },
    {
      "cell_type": "code",
      "execution_count": 72,
      "id": "72d796ca-076c-4691-a192-b7972a9fe327",
      "metadata": {
        "id": "72d796ca-076c-4691-a192-b7972a9fe327"
      },
      "outputs": [],
      "source": []
    }
  ],
  "metadata": {
    "kernelspec": {
      "display_name": "Python 3 (ipykernel)",
      "language": "python",
      "name": "python3"
    },
    "language_info": {
      "codemirror_mode": {
        "name": "ipython",
        "version": 3
      },
      "file_extension": ".py",
      "mimetype": "text/x-python",
      "name": "python",
      "nbconvert_exporter": "python",
      "pygments_lexer": "ipython3",
      "version": "3.12.7"
    },
    "colab": {
      "provenance": []
    }
  },
  "nbformat": 4,
  "nbformat_minor": 5
}